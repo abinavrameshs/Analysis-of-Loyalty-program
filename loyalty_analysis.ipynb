{
    "cells": [
        {
            "cell_type": "markdown",
            "source": [
                "# Library and data imports"
            ],
            "metadata": {}
        },
        {
            "cell_type": "code",
            "execution_count": 88,
            "source": [
                "# Import libraries\r\n",
                "import pandas as pd\r\n",
                "import numpy as np\r\n",
                "from datetime import datetime\r\n",
                "import seaborn as sns\r\n",
                "import  matplotlib.pyplot as plt"
            ],
            "outputs": [],
            "metadata": {}
        },
        {
            "cell_type": "code",
            "execution_count": 5,
            "source": [
                "# Import datasets\r\n",
                "\r\n",
                "cust_dim = pd.read_csv(\"Data/Cust_dim_table.csv\")\r\n",
                "prod_dim = pd.read_csv(\"Data/Prod_dim_table.csv\")\r\n",
                "sales_fact = pd.read_csv(\"Data/Sales_fact_final.csv\")\r\n",
                "\r\n",
                "print(f\"cust_dim has shape {cust_dim.shape}\\n\")\r\n",
                "print(f\"prod_dim has shape {prod_dim.shape}\\n\")\r\n",
                "print(f\"sales_fact has shape {sales_fact.shape}\\n\")"
            ],
            "outputs": [
                {
                    "output_type": "stream",
                    "name": "stdout",
                    "text": [
                        "cust_dim has shape (5001, 2)\n",
                        "\n",
                        "prod_dim has shape (4997, 5)\n",
                        "\n",
                        "sales_fact has shape (3159580, 7)\n",
                        "\n"
                    ]
                }
            ],
            "metadata": {}
        },
        {
            "cell_type": "code",
            "execution_count": 11,
            "source": [
                "cust_dim.head()"
            ],
            "outputs": [
                {
                    "output_type": "execute_result",
                    "data": {
                        "text/plain": [
                            "        CUST_CODE CUST_LIFESTAGE CUST_LIFESTAGE_DESCRIPTION\n",
                            "0  CUST0000410727             OT                      other\n",
                            "1  CUST0000634693             YF               young family\n",
                            "2             NaN            NaN               unclassified\n",
                            "3  CUST0000353957             PE                 pensioners\n",
                            "4  CUST0000089820             OT                      other"
                        ],
                        "text/html": [
                            "<div>\n",
                            "<style scoped>\n",
                            "    .dataframe tbody tr th:only-of-type {\n",
                            "        vertical-align: middle;\n",
                            "    }\n",
                            "\n",
                            "    .dataframe tbody tr th {\n",
                            "        vertical-align: top;\n",
                            "    }\n",
                            "\n",
                            "    .dataframe thead th {\n",
                            "        text-align: right;\n",
                            "    }\n",
                            "</style>\n",
                            "<table border=\"1\" class=\"dataframe\">\n",
                            "  <thead>\n",
                            "    <tr style=\"text-align: right;\">\n",
                            "      <th></th>\n",
                            "      <th>CUST_CODE</th>\n",
                            "      <th>CUST_LIFESTAGE</th>\n",
                            "      <th>CUST_LIFESTAGE_DESCRIPTION</th>\n",
                            "    </tr>\n",
                            "  </thead>\n",
                            "  <tbody>\n",
                            "    <tr>\n",
                            "      <th>0</th>\n",
                            "      <td>CUST0000410727</td>\n",
                            "      <td>OT</td>\n",
                            "      <td>other</td>\n",
                            "    </tr>\n",
                            "    <tr>\n",
                            "      <th>1</th>\n",
                            "      <td>CUST0000634693</td>\n",
                            "      <td>YF</td>\n",
                            "      <td>young family</td>\n",
                            "    </tr>\n",
                            "    <tr>\n",
                            "      <th>2</th>\n",
                            "      <td>NaN</td>\n",
                            "      <td>NaN</td>\n",
                            "      <td>unclassified</td>\n",
                            "    </tr>\n",
                            "    <tr>\n",
                            "      <th>3</th>\n",
                            "      <td>CUST0000353957</td>\n",
                            "      <td>PE</td>\n",
                            "      <td>pensioners</td>\n",
                            "    </tr>\n",
                            "    <tr>\n",
                            "      <th>4</th>\n",
                            "      <td>CUST0000089820</td>\n",
                            "      <td>OT</td>\n",
                            "      <td>other</td>\n",
                            "    </tr>\n",
                            "  </tbody>\n",
                            "</table>\n",
                            "</div>"
                        ]
                    },
                    "metadata": {},
                    "execution_count": 11
                }
            ],
            "metadata": {}
        },
        {
            "cell_type": "code",
            "execution_count": 7,
            "source": [
                "prod_dim.head()"
            ],
            "outputs": [
                {
                    "output_type": "execute_result",
                    "data": {
                        "text/plain": [
                            "    PROD_CODE PROD_CODE_10 PROD_CODE_20 PROD_CODE_30 PROD_CODE_40\n",
                            "0  PRD0900033      CL00201     DEP00067       G00021       D00005\n",
                            "1  PRD0900097      CL00001     DEP00001       G00001       D00001\n",
                            "2  PRD0900121      CL00063     DEP00019       G00007       D00002\n",
                            "3  PRD0900135      CL00201     DEP00067       G00021       D00005\n",
                            "4  PRD0900220      CL00051     DEP00013       G00005       D00002"
                        ],
                        "text/html": [
                            "<div>\n",
                            "<style scoped>\n",
                            "    .dataframe tbody tr th:only-of-type {\n",
                            "        vertical-align: middle;\n",
                            "    }\n",
                            "\n",
                            "    .dataframe tbody tr th {\n",
                            "        vertical-align: top;\n",
                            "    }\n",
                            "\n",
                            "    .dataframe thead th {\n",
                            "        text-align: right;\n",
                            "    }\n",
                            "</style>\n",
                            "<table border=\"1\" class=\"dataframe\">\n",
                            "  <thead>\n",
                            "    <tr style=\"text-align: right;\">\n",
                            "      <th></th>\n",
                            "      <th>PROD_CODE</th>\n",
                            "      <th>PROD_CODE_10</th>\n",
                            "      <th>PROD_CODE_20</th>\n",
                            "      <th>PROD_CODE_30</th>\n",
                            "      <th>PROD_CODE_40</th>\n",
                            "    </tr>\n",
                            "  </thead>\n",
                            "  <tbody>\n",
                            "    <tr>\n",
                            "      <th>0</th>\n",
                            "      <td>PRD0900033</td>\n",
                            "      <td>CL00201</td>\n",
                            "      <td>DEP00067</td>\n",
                            "      <td>G00021</td>\n",
                            "      <td>D00005</td>\n",
                            "    </tr>\n",
                            "    <tr>\n",
                            "      <th>1</th>\n",
                            "      <td>PRD0900097</td>\n",
                            "      <td>CL00001</td>\n",
                            "      <td>DEP00001</td>\n",
                            "      <td>G00001</td>\n",
                            "      <td>D00001</td>\n",
                            "    </tr>\n",
                            "    <tr>\n",
                            "      <th>2</th>\n",
                            "      <td>PRD0900121</td>\n",
                            "      <td>CL00063</td>\n",
                            "      <td>DEP00019</td>\n",
                            "      <td>G00007</td>\n",
                            "      <td>D00002</td>\n",
                            "    </tr>\n",
                            "    <tr>\n",
                            "      <th>3</th>\n",
                            "      <td>PRD0900135</td>\n",
                            "      <td>CL00201</td>\n",
                            "      <td>DEP00067</td>\n",
                            "      <td>G00021</td>\n",
                            "      <td>D00005</td>\n",
                            "    </tr>\n",
                            "    <tr>\n",
                            "      <th>4</th>\n",
                            "      <td>PRD0900220</td>\n",
                            "      <td>CL00051</td>\n",
                            "      <td>DEP00013</td>\n",
                            "      <td>G00005</td>\n",
                            "      <td>D00002</td>\n",
                            "    </tr>\n",
                            "  </tbody>\n",
                            "</table>\n",
                            "</div>"
                        ]
                    },
                    "metadata": {},
                    "execution_count": 7
                }
            ],
            "metadata": {}
        },
        {
            "cell_type": "code",
            "execution_count": 8,
            "source": [
                "sales_fact.head()"
            ],
            "outputs": [
                {
                    "output_type": "execute_result",
                    "data": {
                        "text/plain": [
                            "        CUST_CODE   PROD_CODE  SPEND  QUANTITY        BASKET_ID STORE_CODE  \\\n",
                            "0  CUST0000291884  PRD0903750   1.57         1  994100100327348        E01   \n",
                            "1  CUST0000928648  PRD0901098   0.84         1  994100100709841        E03   \n",
                            "2  CUST0000928411  PRD0901383   0.40         1  994100100709694        E03   \n",
                            "3  CUST0000928411  PRD0901769   1.06         1  994100100709694        E03   \n",
                            "4  CUST0000928411  PRD0901850   0.88         1  994100100709694        E03   \n",
                            "\n",
                            "    SHOP_DATE  \n",
                            "0  2006-04-10  \n",
                            "1  2006-04-10  \n",
                            "2  2006-04-10  \n",
                            "3  2006-04-10  \n",
                            "4  2006-04-10  "
                        ],
                        "text/html": [
                            "<div>\n",
                            "<style scoped>\n",
                            "    .dataframe tbody tr th:only-of-type {\n",
                            "        vertical-align: middle;\n",
                            "    }\n",
                            "\n",
                            "    .dataframe tbody tr th {\n",
                            "        vertical-align: top;\n",
                            "    }\n",
                            "\n",
                            "    .dataframe thead th {\n",
                            "        text-align: right;\n",
                            "    }\n",
                            "</style>\n",
                            "<table border=\"1\" class=\"dataframe\">\n",
                            "  <thead>\n",
                            "    <tr style=\"text-align: right;\">\n",
                            "      <th></th>\n",
                            "      <th>CUST_CODE</th>\n",
                            "      <th>PROD_CODE</th>\n",
                            "      <th>SPEND</th>\n",
                            "      <th>QUANTITY</th>\n",
                            "      <th>BASKET_ID</th>\n",
                            "      <th>STORE_CODE</th>\n",
                            "      <th>SHOP_DATE</th>\n",
                            "    </tr>\n",
                            "  </thead>\n",
                            "  <tbody>\n",
                            "    <tr>\n",
                            "      <th>0</th>\n",
                            "      <td>CUST0000291884</td>\n",
                            "      <td>PRD0903750</td>\n",
                            "      <td>1.57</td>\n",
                            "      <td>1</td>\n",
                            "      <td>994100100327348</td>\n",
                            "      <td>E01</td>\n",
                            "      <td>2006-04-10</td>\n",
                            "    </tr>\n",
                            "    <tr>\n",
                            "      <th>1</th>\n",
                            "      <td>CUST0000928648</td>\n",
                            "      <td>PRD0901098</td>\n",
                            "      <td>0.84</td>\n",
                            "      <td>1</td>\n",
                            "      <td>994100100709841</td>\n",
                            "      <td>E03</td>\n",
                            "      <td>2006-04-10</td>\n",
                            "    </tr>\n",
                            "    <tr>\n",
                            "      <th>2</th>\n",
                            "      <td>CUST0000928411</td>\n",
                            "      <td>PRD0901383</td>\n",
                            "      <td>0.40</td>\n",
                            "      <td>1</td>\n",
                            "      <td>994100100709694</td>\n",
                            "      <td>E03</td>\n",
                            "      <td>2006-04-10</td>\n",
                            "    </tr>\n",
                            "    <tr>\n",
                            "      <th>3</th>\n",
                            "      <td>CUST0000928411</td>\n",
                            "      <td>PRD0901769</td>\n",
                            "      <td>1.06</td>\n",
                            "      <td>1</td>\n",
                            "      <td>994100100709694</td>\n",
                            "      <td>E03</td>\n",
                            "      <td>2006-04-10</td>\n",
                            "    </tr>\n",
                            "    <tr>\n",
                            "      <th>4</th>\n",
                            "      <td>CUST0000928411</td>\n",
                            "      <td>PRD0901850</td>\n",
                            "      <td>0.88</td>\n",
                            "      <td>1</td>\n",
                            "      <td>994100100709694</td>\n",
                            "      <td>E03</td>\n",
                            "      <td>2006-04-10</td>\n",
                            "    </tr>\n",
                            "  </tbody>\n",
                            "</table>\n",
                            "</div>"
                        ]
                    },
                    "metadata": {},
                    "execution_count": 8
                }
            ],
            "metadata": {}
        },
        {
            "cell_type": "markdown",
            "source": [
                "# Cleaning Data"
            ],
            "metadata": {}
        },
        {
            "cell_type": "code",
            "execution_count": 37,
            "source": [
                "# Add description in Customer dimension\r\n",
                "cust_dim['CUST_LIFESTAGE_DESCRIPTION'] = np.select(\r\n",
                "    [\r\n",
                "        cust_dim['CUST_LIFESTAGE'].isin(['YA']), \r\n",
                "        cust_dim['CUST_LIFESTAGE'].isin(['OA']),\r\n",
                "        cust_dim['CUST_LIFESTAGE'].isin(['YF']),\r\n",
                "        cust_dim['CUST_LIFESTAGE'].isin(['OF']),\r\n",
                "        cust_dim['CUST_LIFESTAGE'].isin(['PE']),\r\n",
                "        cust_dim['CUST_LIFESTAGE'].isin(['OT']),\r\n",
                "\r\n",
                "    ], \r\n",
                "    [\r\n",
                "        'young adult', \r\n",
                "        'older adult',\r\n",
                "        'young family',\r\n",
                "        'older family',\r\n",
                "        'pensioners',\r\n",
                "        'other',\r\n",
                "    ], \r\n",
                "    default='unclassified'\r\n",
                ")\r\n",
                "\r\n",
                "# Clean Cust_dim with nan values in CUST_CODE column\r\n",
                "\r\n",
                "cust_dim.dropna(inplace=True,subset=['CUST_CODE'])"
            ],
            "outputs": [],
            "metadata": {}
        },
        {
            "cell_type": "code",
            "execution_count": 19,
            "source": [
                "# Convert SHOP_DATE to datetime and extract month and Year\r\n",
                "sales_fact['SHOP_DATE']=pd.to_datetime(sales_fact['SHOP_DATE'], format='%Y-%m-%d')\r\n",
                "sales_fact['SHOP_YEAR']  = sales_fact['SHOP_DATE'].dt.year\r\n",
                "sales_fact['SHOP_MONTH']  = sales_fact['SHOP_DATE'].dt.month\r\n",
                "sales_fact['TOTAL_SPEND']  = sales_fact['SPEND']*sales_fact['QUANTITY']\r\n",
                "\r\n",
                "\r\n",
                "def combine(x):\r\n",
                "    year=str(x[0])\r\n",
                "    if(x[1]<10):\r\n",
                "        month = '0' + str(x[1])\r\n",
                "        return year+month\r\n",
                "    else :\r\n",
                "        month = str(x[1])\r\n",
                "        return year+month\r\n",
                "    \r\n",
                "    \r\n",
                "    \r\n",
                "sales_fact['SHOP_YEAR_MONTH']=sales_fact[['SHOP_YEAR','SHOP_MONTH']].apply(combine, axis=1)"
            ],
            "outputs": [],
            "metadata": {}
        },
        {
            "cell_type": "code",
            "execution_count": null,
            "source": [
                "# How many non loyalty members are there in sales data\r\n",
                "\r\n",
                "sales_fact['LOYALTY_MEMBER'] = np.select(\r\n",
                "    [\r\n",
                "        sales_fact['CUST_CODE'].isnull().isin([True]), \r\n",
                "        sales_fact['CUST_CODE'].isnull().isin([False])\r\n",
                "\r\n",
                "    ], \r\n",
                "    [\r\n",
                "        'Not Loyalty Member', \r\n",
                "        'Loyalty Member'\r\n",
                "    ], \r\n",
                "    default='unclassified'\r\n",
                ")\r\n",
                "\r\n",
                "#sales_fact['LOYALTY_MEMBER']  = sales_fact['CUST_CODE'].isnull()"
            ],
            "outputs": [],
            "metadata": {}
        },
        {
            "cell_type": "code",
            "execution_count": 51,
            "source": [
                "sales_2007=sales_fact[sales_fact['SHOP_YEAR']==2007]\r\n",
                "sales_2007.shape"
            ],
            "outputs": [
                {
                    "data": {
                        "text/plain": [
                            "(1414733, 11)"
                        ]
                    },
                    "metadata": {},
                    "output_type": "display_data"
                }
            ],
            "metadata": {}
        },
        {
            "cell_type": "code",
            "execution_count": 18,
            "source": [
                "sales_2007.head()"
            ],
            "outputs": [
                {
                    "data": {
                        "text/plain": [
                            "              CUST_CODE   PROD_CODE  SPEND  QUANTITY        BASKET_ID  \\\n",
                            "1025274  CUST0000764276  PRD0903052   0.91         1  994103900565824   \n",
                            "1025275  CUST0000035935  PRD0902019   0.79         1  994103900161988   \n",
                            "1025276  CUST0000764276  PRD0903074   1.01         1  994103900565824   \n",
                            "1025277  CUST0000035935  PRD0901942   0.40         1  994103900161988   \n",
                            "1025278  CUST0000427023  PRD0904887   1.02         1  994103900378560   \n",
                            "\n",
                            "        STORE_CODE  SHOP_DATE  SHOP_YEAR  SHOP_MONTH  \n",
                            "1025274        W02 2007-01-01       2007           1  \n",
                            "1025275        W01 2007-01-01       2007           1  \n",
                            "1025276        W02 2007-01-01       2007           1  \n",
                            "1025277        W01 2007-01-01       2007           1  \n",
                            "1025278        W02 2007-01-01       2007           1  "
                        ],
                        "text/html": [
                            "<div>\n",
                            "<style scoped>\n",
                            "    .dataframe tbody tr th:only-of-type {\n",
                            "        vertical-align: middle;\n",
                            "    }\n",
                            "\n",
                            "    .dataframe tbody tr th {\n",
                            "        vertical-align: top;\n",
                            "    }\n",
                            "\n",
                            "    .dataframe thead th {\n",
                            "        text-align: right;\n",
                            "    }\n",
                            "</style>\n",
                            "<table border=\"1\" class=\"dataframe\">\n",
                            "  <thead>\n",
                            "    <tr style=\"text-align: right;\">\n",
                            "      <th></th>\n",
                            "      <th>CUST_CODE</th>\n",
                            "      <th>PROD_CODE</th>\n",
                            "      <th>SPEND</th>\n",
                            "      <th>QUANTITY</th>\n",
                            "      <th>BASKET_ID</th>\n",
                            "      <th>STORE_CODE</th>\n",
                            "      <th>SHOP_DATE</th>\n",
                            "      <th>SHOP_YEAR</th>\n",
                            "      <th>SHOP_MONTH</th>\n",
                            "    </tr>\n",
                            "  </thead>\n",
                            "  <tbody>\n",
                            "    <tr>\n",
                            "      <th>1025274</th>\n",
                            "      <td>CUST0000764276</td>\n",
                            "      <td>PRD0903052</td>\n",
                            "      <td>0.91</td>\n",
                            "      <td>1</td>\n",
                            "      <td>994103900565824</td>\n",
                            "      <td>W02</td>\n",
                            "      <td>2007-01-01</td>\n",
                            "      <td>2007</td>\n",
                            "      <td>1</td>\n",
                            "    </tr>\n",
                            "    <tr>\n",
                            "      <th>1025275</th>\n",
                            "      <td>CUST0000035935</td>\n",
                            "      <td>PRD0902019</td>\n",
                            "      <td>0.79</td>\n",
                            "      <td>1</td>\n",
                            "      <td>994103900161988</td>\n",
                            "      <td>W01</td>\n",
                            "      <td>2007-01-01</td>\n",
                            "      <td>2007</td>\n",
                            "      <td>1</td>\n",
                            "    </tr>\n",
                            "    <tr>\n",
                            "      <th>1025276</th>\n",
                            "      <td>CUST0000764276</td>\n",
                            "      <td>PRD0903074</td>\n",
                            "      <td>1.01</td>\n",
                            "      <td>1</td>\n",
                            "      <td>994103900565824</td>\n",
                            "      <td>W02</td>\n",
                            "      <td>2007-01-01</td>\n",
                            "      <td>2007</td>\n",
                            "      <td>1</td>\n",
                            "    </tr>\n",
                            "    <tr>\n",
                            "      <th>1025277</th>\n",
                            "      <td>CUST0000035935</td>\n",
                            "      <td>PRD0901942</td>\n",
                            "      <td>0.40</td>\n",
                            "      <td>1</td>\n",
                            "      <td>994103900161988</td>\n",
                            "      <td>W01</td>\n",
                            "      <td>2007-01-01</td>\n",
                            "      <td>2007</td>\n",
                            "      <td>1</td>\n",
                            "    </tr>\n",
                            "    <tr>\n",
                            "      <th>1025278</th>\n",
                            "      <td>CUST0000427023</td>\n",
                            "      <td>PRD0904887</td>\n",
                            "      <td>1.02</td>\n",
                            "      <td>1</td>\n",
                            "      <td>994103900378560</td>\n",
                            "      <td>W02</td>\n",
                            "      <td>2007-01-01</td>\n",
                            "      <td>2007</td>\n",
                            "      <td>1</td>\n",
                            "    </tr>\n",
                            "  </tbody>\n",
                            "</table>\n",
                            "</div>"
                        ]
                    },
                    "metadata": {},
                    "output_type": "display_data"
                }
            ],
            "metadata": {}
        },
        {
            "cell_type": "markdown",
            "source": [
                "# Data Exploration"
            ],
            "metadata": {}
        },
        {
            "cell_type": "markdown",
            "source": [
                "## Key Takeaways from Exploration : \r\n",
                "1. For Sales fact : \r\n",
                "- There are 12 stores with most transactions in W02 and S02\r\n",
                "\r\n",
                "2. For Customer dimension : \r\n",
                "- There is one null un `CUST_CODE` column\r\n",
                "- There are 5000 unique customers (given by `CUST_CODE` column)\r\n",
                "- In our customer dataset, the hisghest category of customers are Others, Young adult and young family\r\n",
                "\r\n",
                "3. For Product dimension : \r\n",
                "- There are no NAs in any of the columns\r\n",
                "- There are 4997 total products\r\n",
                "    - With 250 PROD_CODE_10 categories\r\n",
                "    - With 90 PROD_CODE_20 categories\r\n",
                "    - With 31 PROD_CODE_30 categories\r\n",
                "    - With 9 PROD_CODE_40 categories"
            ],
            "metadata": {}
        },
        {
            "cell_type": "code",
            "execution_count": 12,
            "source": [
                "sales_fact.STORE_CODE.value_counts()"
            ],
            "outputs": [
                {
                    "output_type": "execute_result",
                    "data": {
                        "text/plain": [
                            "W02    330388\n",
                            "S02    319584\n",
                            "N01    308559\n",
                            "N03    290429\n",
                            "N02    267923\n",
                            "W01    250271\n",
                            "S03    244591\n",
                            "E01    243228\n",
                            "E03    231633\n",
                            "E02    231554\n",
                            "S01    231171\n",
                            "W03    210249\n",
                            "Name: STORE_CODE, dtype: int64"
                        ]
                    },
                    "metadata": {},
                    "execution_count": 12
                }
            ],
            "metadata": {}
        },
        {
            "cell_type": "code",
            "execution_count": 27,
            "source": [
                "# Are customer ids repeating -- NO , they are unique with one NULL (remove that null in CUST_CODE field)\r\n",
                "\r\n",
                "cust_dim.CUST_CODE.value_counts().sort_values(ascending=False)"
            ],
            "outputs": [
                {
                    "output_type": "execute_result",
                    "data": {
                        "text/plain": [
                            "CUST0000559052    1\n",
                            "CUST0000932977    1\n",
                            "CUST0000468097    1\n",
                            "CUST0000924929    1\n",
                            "CUST0000124935    1\n",
                            "                 ..\n",
                            "CUST0000260311    1\n",
                            "CUST0000242508    1\n",
                            "CUST0000758801    1\n",
                            "CUST0000458484    1\n",
                            "CUST0000712188    1\n",
                            "Name: CUST_CODE, Length: 5000, dtype: int64"
                        ]
                    },
                    "metadata": {},
                    "execution_count": 27
                }
            ],
            "metadata": {}
        },
        {
            "cell_type": "code",
            "execution_count": 38,
            "source": [
                "# How many customers are there? -5000 customers\r\n",
                "cust_dim.CUST_CODE.nunique()\r\n",
                "\r\n",
                "# How many customers in each CUST_LIFESTAGE_DESCRIPTION?\r\n",
                "cust_dim.CUST_LIFESTAGE_DESCRIPTION.value_counts()"
            ],
            "outputs": [
                {
                    "output_type": "execute_result",
                    "data": {
                        "text/plain": [
                            "other           2288\n",
                            "young adult      627\n",
                            "young family     552\n",
                            "unclassified     521\n",
                            "older adult      503\n",
                            "pensioners       344\n",
                            "older family     165\n",
                            "Name: CUST_LIFESTAGE_DESCRIPTION, dtype: int64"
                        ]
                    },
                    "metadata": {},
                    "execution_count": 38
                }
            ],
            "metadata": {}
        },
        {
            "cell_type": "code",
            "execution_count": 34,
            "source": [
                "# Do any of the roduct arrtibutes have NULL values\r\n",
                "\r\n",
                "print(f\"In table prod_dim For column PROD_CODE, number of nulls is {prod_dim['PROD_CODE'].isnull().sum()}\")\r\n",
                "print(f\"In table prod_dim For column PROD_CODE_10,number of nulls is  {prod_dim['PROD_CODE_10'].isnull().sum()}\")\r\n",
                "print(f\"In table prod_dim For column PROD_CODE_20, number of nulls is {prod_dim['PROD_CODE_20'].isnull().sum()}\")\r\n",
                "print(f\"In table prod_dim For column PROD_CODE_30, number of nulls is {prod_dim['PROD_CODE_30'].isnull().sum()}\")\r\n",
                "print(f\"In table prod_dim For column PROD_CODE_40, number of nulls is  {prod_dim['PROD_CODE_40'].isnull().sum()}\")"
            ],
            "outputs": [
                {
                    "output_type": "stream",
                    "name": "stdout",
                    "text": [
                        "In table prod_dim For column PROD_CODE, number of nulls is 0\n",
                        "In table prod_dim For column PROD_CODE_10,number of nulls is  0\n",
                        "In table prod_dim For column PROD_CODE_20, number of nulls is 0\n",
                        "In table prod_dim For column PROD_CODE_30, number of nulls is 0\n",
                        "In table prod_dim For column PROD_CODE_40, number of nulls is  0\n"
                    ]
                }
            ],
            "metadata": {}
        },
        {
            "cell_type": "code",
            "execution_count": 47,
            "source": [
                "# How many PROD_CODE_10 are there ? --250\r\n",
                "\r\n",
                "prod_dim.PROD_CODE_10.value_counts().sort_values(ascending=False)\r\n",
                "print(prod_dim.PROD_CODE_10.nunique())"
            ],
            "outputs": [
                {
                    "output_type": "stream",
                    "name": "stdout",
                    "text": [
                        "250\n"
                    ]
                }
            ],
            "metadata": {}
        },
        {
            "cell_type": "code",
            "execution_count": 45,
            "source": [
                "# How many PROD_CODE_20 are there ? --90\r\n",
                "prod_dim.PROD_CODE_20.value_counts().sort_values(ascending=False)\r\n",
                "print(prod_dim.PROD_CODE_20.nunique())"
            ],
            "outputs": [
                {
                    "output_type": "execute_result",
                    "data": {
                        "text/plain": [
                            "90"
                        ]
                    },
                    "metadata": {},
                    "execution_count": 45
                }
            ],
            "metadata": {}
        },
        {
            "cell_type": "code",
            "execution_count": 44,
            "source": [
                "# How many PROD_CODE_30 are there ? --31\r\n",
                "\r\n",
                "prod_dim.PROD_CODE_30.value_counts().sort_values(ascending=False)\r\n",
                "print(prod_dim.PROD_CODE_30.nunique())\r\n",
                "prod_dim.PROD_CODE_30.unique()"
            ],
            "outputs": [
                {
                    "output_type": "execute_result",
                    "data": {
                        "text/plain": [
                            "array(['G00021', 'G00001', 'G00007', 'G00005', 'G00016', 'G00022',\n",
                            "       'G00013', 'G00002', 'G00003', 'G00010', 'G00015', 'G00004',\n",
                            "       'G00008', 'G00006', 'G00014', 'G00024', 'G00009', 'G00011',\n",
                            "       'G00023', 'G00028', 'G00029', 'G00027', 'G00017', 'G00031',\n",
                            "       'G00012', 'G00018', 'G00030', 'G00025', 'G00019', 'G00026',\n",
                            "       'G00020'], dtype=object)"
                        ]
                    },
                    "metadata": {},
                    "execution_count": 44
                }
            ],
            "metadata": {}
        },
        {
            "cell_type": "code",
            "execution_count": 46,
            "source": [
                "# How many PROD_CODE_40 are there ? -- 9 \r\n",
                "print(prod_dim.PROD_CODE_40.nunique())\r\n",
                "prod_dim.PROD_CODE_40.value_counts().sort_values(ascending=False)\r\n"
            ],
            "outputs": [
                {
                    "output_type": "stream",
                    "name": "stdout",
                    "text": [
                        "9\n"
                    ]
                },
                {
                    "output_type": "execute_result",
                    "data": {
                        "text/plain": [
                            "D00002    1788\n",
                            "D00003    1781\n",
                            "D00005     728\n",
                            "D00001     379\n",
                            "D00008     162\n",
                            "D00004     131\n",
                            "D00009      21\n",
                            "D00006       6\n",
                            "D00007       1\n",
                            "Name: PROD_CODE_40, dtype: int64"
                        ]
                    },
                    "metadata": {},
                    "execution_count": 46
                }
            ],
            "metadata": {}
        },
        {
            "cell_type": "code",
            "execution_count": 135,
            "source": [
                "## Plot revenue per month for E01 store (Berlin)\r\n",
                "\r\n",
                "E01 = sales_fact[sales_fact.STORE_CODE==\"E01\"]\r\n",
                "\r\n",
                "E01[['SHOP_YEAR_MONTH','TOTAL_SPEND']].groupby('SHOP_YEAR_MONTH').sum().reset_index()\r\n",
                "a4_dims = (25, 10)\r\n",
                "fig, ax = plt.subplots(figsize=a4_dims)\r\n",
                "g=sns.lineplot(data=E01[['SHOP_YEAR_MONTH','TOTAL_SPEND']].groupby('SHOP_YEAR_MONTH').sum().reset_index(), x=\"SHOP_YEAR_MONTH\", y=\"TOTAL_SPEND\",ax=ax, markers=True, dashes=False,sort=True)\r\n",
                "#g.set_xticklabels(g.get_xticklabels(), rotation=90)\r\n",
                "g.set(title='Revenue per moonth in Berlin (E01)')\r\n"
            ],
            "outputs": [
                {
                    "output_type": "execute_result",
                    "data": {
                        "text/plain": [
                            "[Text(0.5, 1.0, 'Revenue per moonth in Berlin (E01)')]"
                        ]
                    },
                    "metadata": {},
                    "execution_count": 135
                },
                {
                    "output_type": "display_data",
                    "data": {
                        "text/plain": [
                            "<Figure size 1800x720 with 1 Axes>"
                        ],
                        "image/png": "[encoded data removed]"
                    },
                    "metadata": {}
                }
            ],
            "metadata": {}
        },
        {
            "cell_type": "code",
            "execution_count": 175,
            "source": [
                "## Plot Sales volume per month for E01 store (Berlin)\r\n",
                "\r\n",
                "E01 = sales_fact[sales_fact.STORE_CODE==\"E01\"]\r\n",
                "\r\n",
                "data=E01[['SHOP_YEAR_MONTH','BASKET_ID']].groupby('SHOP_YEAR_MONTH').nunique().reset_index()\r\n",
                "a4_dims = (25, 10)\r\n",
                "fig, ax = plt.subplots(figsize=a4_dims)\r\n",
                "g=sns.lineplot(data=data, x=\"SHOP_YEAR_MONTH\", y=\"BASKET_ID\",ax=ax, markers=True, dashes=False,sort=True)\r\n",
                "#g.set_xticklabels(g.get_xticklabels(), rotation=90)\r\n",
                "g.set(title='Sales volume per month in Berlin (E01)')"
            ],
            "outputs": [
                {
                    "output_type": "execute_result",
                    "data": {
                        "text/plain": [
                            "[Text(0.5, 1.0, 'Sales volume per month in Berlin (E01)')]"
                        ]
                    },
                    "metadata": {},
                    "execution_count": 175
                },
                {
                    "output_type": "display_data",
                    "data": {
                        "text/plain": [
                            "<Figure size 1800x720 with 1 Axes>"
                        ],
                        "image/png": "[encoded data removed]"
                    },
                    "metadata": {}
                }
            ],
            "metadata": {}
        },
        {
            "cell_type": "markdown",
            "source": [
                "The number of Baskets doubled in 2008 June because of a promotion in Berlin store in June 2008"
            ],
            "metadata": {}
        },
        {
            "cell_type": "markdown",
            "source": [
                "# Calculation of Basket Penetration and  Penetration in terms of total spend"
            ],
            "metadata": {}
        },
        {
            "cell_type": "markdown",
            "source": [
                "## Key Takeaways : \r\n",
                "\r\n",
                "1. Basket penetration = 79%\r\n",
                "2. Revenue penetration = 76%"
            ],
            "metadata": {}
        },
        {
            "cell_type": "code",
            "execution_count": 57,
            "source": [
                "# For basket penetration\r\n",
                "\r\n",
                "\"\"\"\r\n",
                "Calc num of baskets of non-loyalty members = num_non_loyalty\r\n",
                "calc num of baskets of loyalty members = num_loyalty\r\n",
                "Calc num_loyalty/(num_loyalty +num_non_loyalty )\r\n",
                "\"\"\"\r\n",
                "num_non_loyalty = sales_2007[sales_2007['LOYALTY_MEMBER']=='Not Loyalty Member']['BASKET_ID'].nunique()\r\n",
                "num_loyalty = sales_2007[sales_2007['LOYALTY_MEMBER']=='Loyalty Member']['BASKET_ID'].nunique()\r\n",
                "basket_pen = num_loyalty/(num_non_loyalty+num_loyalty)\r\n",
                "print(f\"num_non_loyalty is {num_non_loyalty},\\n num_loyalty is {num_loyalty}\\n basket penetration is {basket_pen}\")"
            ],
            "outputs": [
                {
                    "output_type": "stream",
                    "name": "stdout",
                    "text": [
                        "num_non_loyalty is 45151,\n",
                        " num_loyalty is 175467\n",
                        " basket penetration is 0.7953430817068416\n"
                    ]
                }
            ],
            "metadata": {}
        },
        {
            "cell_type": "code",
            "execution_count": 60,
            "source": [
                "# For  penetration in total spend\r\n",
                "\r\n",
                "\"\"\"\r\n",
                "Calc total spend of non-loyalty members = num_non_loyalty\r\n",
                "calc total spend of loyalty members = num_loyalty\r\n",
                "Calc num_loyalty/(num_loyalty +num_non_loyalty )\r\n",
                "\"\"\"\r\n",
                "num_non_loyalty_spend = sales_2007[sales_2007['LOYALTY_MEMBER']=='Not Loyalty Member']['TOTAL_SPEND'].sum()\r\n",
                "num_loyalty_spend = sales_2007[sales_2007['LOYALTY_MEMBER']=='Loyalty Member']['TOTAL_SPEND'].sum()\r\n",
                "spend_pen = num_loyalty_spend/(num_non_loyalty_spend+num_loyalty_spend)\r\n",
                "print(f\"num_non_loyalty_spend is {num_non_loyalty_spend},\\n num_loyalty_spend is {num_loyalty_spend}\\n spend penetration is {spend_pen}\")"
            ],
            "outputs": [
                {
                    "output_type": "stream",
                    "name": "stdout",
                    "text": [
                        "num_non_loyalty_spend is 1435857.3699999994,\n",
                        " num_loyalty_spend is 4645909.949999999\n",
                        " spend penetration is 0.7639078750549767\n"
                    ]
                }
            ],
            "metadata": {}
        },
        {
            "cell_type": "markdown",
            "source": [
                "If from industry benchmarks you knew that the basket penetration was lower than expected, but revenue penetration much higher, that means \r\n",
                "- Not all customers who make transactions are enrolled into this loyalty progran\r\n",
                "- High spending Customers tend to prefer this loyalty program, as they might find this to be beneficial to them"
            ],
            "metadata": {}
        },
        {
            "cell_type": "markdown",
            "source": [
                "## How many points were issued in 2007?"
            ],
            "metadata": {}
        },
        {
            "cell_type": "code",
            "execution_count": 61,
            "source": [
                "sales_2007.columns"
            ],
            "outputs": [
                {
                    "output_type": "execute_result",
                    "data": {
                        "text/plain": [
                            "Index(['CUST_CODE', 'PROD_CODE', 'SPEND', 'QUANTITY', 'BASKET_ID',\n",
                            "       'STORE_CODE', 'SHOP_DATE', 'SHOP_YEAR', 'SHOP_MONTH', 'TOTAL_SPEND',\n",
                            "       'LOYALTY_MEMBER'],\n",
                            "      dtype='object')"
                        ]
                    },
                    "metadata": {},
                    "execution_count": 61
                }
            ],
            "metadata": {}
        },
        {
            "cell_type": "code",
            "execution_count": 66,
            "source": [
                "def calc_points(x):\r\n",
                "    if(x[1]=='Not Loyalty Member'):\r\n",
                "        return 0\r\n",
                "    elif(x[1]=='Loyalty Member'):\r\n",
                "        return int(x[0]/10)\r\n",
                "    else : \r\n",
                "        return 0\r\n",
                "    \r\n",
                "sales_2007['Points Awarded']=sales_2007[['TOTAL_SPEND','LOYALTY_MEMBER']].apply(calc_points, axis=1)"
            ],
            "outputs": [
                {
                    "output_type": "stream",
                    "name": "stderr",
                    "text": [
                        "C:\\Users\\ab6101571\\.conda\\envs\\pycaret\\lib\\site-packages\\ipykernel_launcher.py:9: SettingWithCopyWarning: \n",
                        "A value is trying to be set on a copy of a slice from a DataFrame.\n",
                        "Try using .loc[row_indexer,col_indexer] = value instead\n",
                        "\n",
                        "See the caveats in the documentation: https://pandas.pydata.org/pandas-docs/stable/user_guide/indexing.html#returning-a-view-versus-a-copy\n",
                        "  if __name__ == '__main__':\n"
                    ]
                }
            ],
            "metadata": {}
        },
        {
            "cell_type": "code",
            "execution_count": 67,
            "source": [
                "sales_2007[sales_2007['Points Awarded']>1].head(10)"
            ],
            "outputs": [
                {
                    "output_type": "execute_result",
                    "data": {
                        "text/plain": [
                            "              CUST_CODE   PROD_CODE  SPEND  QUANTITY        BASKET_ID  \\\n",
                            "1025413  CUST0000048357  PRD0902004   8.40         3  994103900168905   \n",
                            "1025431  CUST0000044470  PRD0901819   4.51        11  994103900166740   \n",
                            "1025479  CUST0000016376  PRD0900652  18.48         8  994103900151262   \n",
                            "1025481  CUST0000016376  PRD0902898   7.80         5  994103900151262   \n",
                            "1025495  CUST0000016376  PRD0900353   2.52         9  994103900151262   \n",
                            "1025510  CUST0000414522  PRD0904061   3.06         9  994103900371676   \n",
                            "1025542  CUST0000945336  PRD0902413   9.99         3  994103900667391   \n",
                            "1025575  CUST0000445924  PRD0904014  13.65         3  994103900388965   \n",
                            "1025604  CUST0000240308  PRD0903377  11.31         3  994103900275504   \n",
                            "1025656  CUST0000085435  PRD0904713   8.68         4  994103900189451   \n",
                            "\n",
                            "        STORE_CODE  SHOP_DATE  SHOP_YEAR  SHOP_MONTH  TOTAL_SPEND  \\\n",
                            "1025413        W02 2007-01-01       2007           1        25.20   \n",
                            "1025431        N01 2007-01-01       2007           1        49.61   \n",
                            "1025479        E03 2007-01-01       2007           1       147.84   \n",
                            "1025481        E03 2007-01-01       2007           1        39.00   \n",
                            "1025495        E03 2007-01-01       2007           1        22.68   \n",
                            "1025510        N02 2007-01-01       2007           1        27.54   \n",
                            "1025542        S03 2007-01-01       2007           1        29.97   \n",
                            "1025575        S02 2007-01-01       2007           1        40.95   \n",
                            "1025604        W03 2007-01-01       2007           1        33.93   \n",
                            "1025656        E03 2007-01-01       2007           1        34.72   \n",
                            "\n",
                            "         LOYALTY_MEMBER  Points Awarded  \n",
                            "1025413  Loyalty Member               2  \n",
                            "1025431  Loyalty Member               4  \n",
                            "1025479  Loyalty Member              14  \n",
                            "1025481  Loyalty Member               3  \n",
                            "1025495  Loyalty Member               2  \n",
                            "1025510  Loyalty Member               2  \n",
                            "1025542  Loyalty Member               2  \n",
                            "1025575  Loyalty Member               4  \n",
                            "1025604  Loyalty Member               3  \n",
                            "1025656  Loyalty Member               3  "
                        ],
                        "text/html": [
                            "<div>\n",
                            "<style scoped>\n",
                            "    .dataframe tbody tr th:only-of-type {\n",
                            "        vertical-align: middle;\n",
                            "    }\n",
                            "\n",
                            "    .dataframe tbody tr th {\n",
                            "        vertical-align: top;\n",
                            "    }\n",
                            "\n",
                            "    .dataframe thead th {\n",
                            "        text-align: right;\n",
                            "    }\n",
                            "</style>\n",
                            "<table border=\"1\" class=\"dataframe\">\n",
                            "  <thead>\n",
                            "    <tr style=\"text-align: right;\">\n",
                            "      <th></th>\n",
                            "      <th>CUST_CODE</th>\n",
                            "      <th>PROD_CODE</th>\n",
                            "      <th>SPEND</th>\n",
                            "      <th>QUANTITY</th>\n",
                            "      <th>BASKET_ID</th>\n",
                            "      <th>STORE_CODE</th>\n",
                            "      <th>SHOP_DATE</th>\n",
                            "      <th>SHOP_YEAR</th>\n",
                            "      <th>SHOP_MONTH</th>\n",
                            "      <th>TOTAL_SPEND</th>\n",
                            "      <th>LOYALTY_MEMBER</th>\n",
                            "      <th>Points Awarded</th>\n",
                            "    </tr>\n",
                            "  </thead>\n",
                            "  <tbody>\n",
                            "    <tr>\n",
                            "      <th>1025413</th>\n",
                            "      <td>CUST0000048357</td>\n",
                            "      <td>PRD0902004</td>\n",
                            "      <td>8.40</td>\n",
                            "      <td>3</td>\n",
                            "      <td>994103900168905</td>\n",
                            "      <td>W02</td>\n",
                            "      <td>2007-01-01</td>\n",
                            "      <td>2007</td>\n",
                            "      <td>1</td>\n",
                            "      <td>25.20</td>\n",
                            "      <td>Loyalty Member</td>\n",
                            "      <td>2</td>\n",
                            "    </tr>\n",
                            "    <tr>\n",
                            "      <th>1025431</th>\n",
                            "      <td>CUST0000044470</td>\n",
                            "      <td>PRD0901819</td>\n",
                            "      <td>4.51</td>\n",
                            "      <td>11</td>\n",
                            "      <td>994103900166740</td>\n",
                            "      <td>N01</td>\n",
                            "      <td>2007-01-01</td>\n",
                            "      <td>2007</td>\n",
                            "      <td>1</td>\n",
                            "      <td>49.61</td>\n",
                            "      <td>Loyalty Member</td>\n",
                            "      <td>4</td>\n",
                            "    </tr>\n",
                            "    <tr>\n",
                            "      <th>1025479</th>\n",
                            "      <td>CUST0000016376</td>\n",
                            "      <td>PRD0900652</td>\n",
                            "      <td>18.48</td>\n",
                            "      <td>8</td>\n",
                            "      <td>994103900151262</td>\n",
                            "      <td>E03</td>\n",
                            "      <td>2007-01-01</td>\n",
                            "      <td>2007</td>\n",
                            "      <td>1</td>\n",
                            "      <td>147.84</td>\n",
                            "      <td>Loyalty Member</td>\n",
                            "      <td>14</td>\n",
                            "    </tr>\n",
                            "    <tr>\n",
                            "      <th>1025481</th>\n",
                            "      <td>CUST0000016376</td>\n",
                            "      <td>PRD0902898</td>\n",
                            "      <td>7.80</td>\n",
                            "      <td>5</td>\n",
                            "      <td>994103900151262</td>\n",
                            "      <td>E03</td>\n",
                            "      <td>2007-01-01</td>\n",
                            "      <td>2007</td>\n",
                            "      <td>1</td>\n",
                            "      <td>39.00</td>\n",
                            "      <td>Loyalty Member</td>\n",
                            "      <td>3</td>\n",
                            "    </tr>\n",
                            "    <tr>\n",
                            "      <th>1025495</th>\n",
                            "      <td>CUST0000016376</td>\n",
                            "      <td>PRD0900353</td>\n",
                            "      <td>2.52</td>\n",
                            "      <td>9</td>\n",
                            "      <td>994103900151262</td>\n",
                            "      <td>E03</td>\n",
                            "      <td>2007-01-01</td>\n",
                            "      <td>2007</td>\n",
                            "      <td>1</td>\n",
                            "      <td>22.68</td>\n",
                            "      <td>Loyalty Member</td>\n",
                            "      <td>2</td>\n",
                            "    </tr>\n",
                            "    <tr>\n",
                            "      <th>1025510</th>\n",
                            "      <td>CUST0000414522</td>\n",
                            "      <td>PRD0904061</td>\n",
                            "      <td>3.06</td>\n",
                            "      <td>9</td>\n",
                            "      <td>994103900371676</td>\n",
                            "      <td>N02</td>\n",
                            "      <td>2007-01-01</td>\n",
                            "      <td>2007</td>\n",
                            "      <td>1</td>\n",
                            "      <td>27.54</td>\n",
                            "      <td>Loyalty Member</td>\n",
                            "      <td>2</td>\n",
                            "    </tr>\n",
                            "    <tr>\n",
                            "      <th>1025542</th>\n",
                            "      <td>CUST0000945336</td>\n",
                            "      <td>PRD0902413</td>\n",
                            "      <td>9.99</td>\n",
                            "      <td>3</td>\n",
                            "      <td>994103900667391</td>\n",
                            "      <td>S03</td>\n",
                            "      <td>2007-01-01</td>\n",
                            "      <td>2007</td>\n",
                            "      <td>1</td>\n",
                            "      <td>29.97</td>\n",
                            "      <td>Loyalty Member</td>\n",
                            "      <td>2</td>\n",
                            "    </tr>\n",
                            "    <tr>\n",
                            "      <th>1025575</th>\n",
                            "      <td>CUST0000445924</td>\n",
                            "      <td>PRD0904014</td>\n",
                            "      <td>13.65</td>\n",
                            "      <td>3</td>\n",
                            "      <td>994103900388965</td>\n",
                            "      <td>S02</td>\n",
                            "      <td>2007-01-01</td>\n",
                            "      <td>2007</td>\n",
                            "      <td>1</td>\n",
                            "      <td>40.95</td>\n",
                            "      <td>Loyalty Member</td>\n",
                            "      <td>4</td>\n",
                            "    </tr>\n",
                            "    <tr>\n",
                            "      <th>1025604</th>\n",
                            "      <td>CUST0000240308</td>\n",
                            "      <td>PRD0903377</td>\n",
                            "      <td>11.31</td>\n",
                            "      <td>3</td>\n",
                            "      <td>994103900275504</td>\n",
                            "      <td>W03</td>\n",
                            "      <td>2007-01-01</td>\n",
                            "      <td>2007</td>\n",
                            "      <td>1</td>\n",
                            "      <td>33.93</td>\n",
                            "      <td>Loyalty Member</td>\n",
                            "      <td>3</td>\n",
                            "    </tr>\n",
                            "    <tr>\n",
                            "      <th>1025656</th>\n",
                            "      <td>CUST0000085435</td>\n",
                            "      <td>PRD0904713</td>\n",
                            "      <td>8.68</td>\n",
                            "      <td>4</td>\n",
                            "      <td>994103900189451</td>\n",
                            "      <td>E03</td>\n",
                            "      <td>2007-01-01</td>\n",
                            "      <td>2007</td>\n",
                            "      <td>1</td>\n",
                            "      <td>34.72</td>\n",
                            "      <td>Loyalty Member</td>\n",
                            "      <td>3</td>\n",
                            "    </tr>\n",
                            "  </tbody>\n",
                            "</table>\n",
                            "</div>"
                        ]
                    },
                    "metadata": {},
                    "execution_count": 67
                }
            ],
            "metadata": {}
        },
        {
            "cell_type": "code",
            "execution_count": 70,
            "source": [
                "print(f\"Total points awarded(Total issuance) in 2007 is {sales_2007['Points Awarded'].sum()}\")\r\n"
            ],
            "outputs": [
                {
                    "output_type": "stream",
                    "name": "stdout",
                    "text": [
                        "Total points awarded(Total issuance) in 2007 is 240849\n"
                    ]
                }
            ],
            "metadata": {}
        },
        {
            "cell_type": "code",
            "execution_count": 71,
            "source": [
                "issuance = sales_2007['Points Awarded'].sum()\r\n",
                "redemption = 170000\r\n",
                "\r\n",
                "redemption/issuance"
            ],
            "outputs": [
                {
                    "output_type": "execute_result",
                    "data": {
                        "text/plain": [
                            "0.7058364369376663"
                        ]
                    },
                    "metadata": {},
                    "execution_count": 71
                }
            ],
            "metadata": {}
        },
        {
            "cell_type": "markdown",
            "source": [
                "The redemption to issuance ratio is 70%. 70% of the points issued to customers have been redeemed. We might have to consider the industry standards to know if this loyalty program is a success or not. \r\n",
                "- If the industry standard of redemption ratio for similar loyalty programs is above 70%, then we can say that the loyalty program is not working as expected.\r\n",
                "- If the industry standard of redemption ratio for similar loyalty programs is less than 70%, then we can say that the loyalty program is working as expected.\r\n"
            ],
            "metadata": {}
        },
        {
            "cell_type": "markdown",
            "source": [
                "# Promotional Analysis"
            ],
            "metadata": {}
        },
        {
            "cell_type": "markdown",
            "source": [
                "## Analysis of Test group (Berlin-E01) against control group (Budapest-E03) for June 2008"
            ],
            "metadata": {}
        },
        {
            "cell_type": "code",
            "execution_count": 155,
            "source": [
                "E01_200806 = sales_fact[(sales_fact.STORE_CODE==\"E01\") & (sales_fact['SHOP_YEAR_MONTH']==\"200806\") ]\r\n",
                "E03_200806 = sales_fact[(sales_fact.STORE_CODE==\"E03\") & (sales_fact['SHOP_YEAR_MONTH']==\"200806\") ]"
            ],
            "outputs": [],
            "metadata": {}
        },
        {
            "cell_type": "code",
            "execution_count": 185,
            "source": [
                "E01_200806.head()"
            ],
            "outputs": [
                {
                    "output_type": "execute_result",
                    "data": {
                        "text/plain": [
                            "              CUST_CODE   PROD_CODE  SPEND  QUANTITY        BASKET_ID  \\\n",
                            "3016308  CUST0000508514  PRD0904962   6.27         3  994111200498487   \n",
                            "3016310             NaN  PRD0902429   0.87         1  994111200062995   \n",
                            "3016311  CUST0000365429  PRD0902787   2.03         1  994116401215716   \n",
                            "3016319  CUST0000817991  PRD0903052   0.71         1  994111200699716   \n",
                            "3016322  CUST0000139484  PRD0903767   1.68         3  994111200259711   \n",
                            "\n",
                            "        STORE_CODE  SHOP_DATE  SHOP_YEAR  SHOP_MONTH  TOTAL_SPEND  \\\n",
                            "3016308        E01 2008-06-01       2008           6        18.81   \n",
                            "3016310        E01 2008-06-01       2008           6         0.87   \n",
                            "3016311        E01 2008-06-01       2008           6         2.03   \n",
                            "3016319        E01 2008-06-01       2008           6         0.71   \n",
                            "3016322        E01 2008-06-01       2008           6         5.04   \n",
                            "\n",
                            "             LOYALTY_MEMBER SHOP_YEAR_MONTH  Points Awarded  \n",
                            "3016308      Loyalty Member          200806             1.1  \n",
                            "3016310  Not Loyalty Member          200806             0.0  \n",
                            "3016311      Loyalty Member          200806             0.0  \n",
                            "3016319      Loyalty Member          200806             0.0  \n",
                            "3016322      Loyalty Member          200806             0.0  "
                        ],
                        "text/html": [
                            "<div>\n",
                            "<style scoped>\n",
                            "    .dataframe tbody tr th:only-of-type {\n",
                            "        vertical-align: middle;\n",
                            "    }\n",
                            "\n",
                            "    .dataframe tbody tr th {\n",
                            "        vertical-align: top;\n",
                            "    }\n",
                            "\n",
                            "    .dataframe thead th {\n",
                            "        text-align: right;\n",
                            "    }\n",
                            "</style>\n",
                            "<table border=\"1\" class=\"dataframe\">\n",
                            "  <thead>\n",
                            "    <tr style=\"text-align: right;\">\n",
                            "      <th></th>\n",
                            "      <th>CUST_CODE</th>\n",
                            "      <th>PROD_CODE</th>\n",
                            "      <th>SPEND</th>\n",
                            "      <th>QUANTITY</th>\n",
                            "      <th>BASKET_ID</th>\n",
                            "      <th>STORE_CODE</th>\n",
                            "      <th>SHOP_DATE</th>\n",
                            "      <th>SHOP_YEAR</th>\n",
                            "      <th>SHOP_MONTH</th>\n",
                            "      <th>TOTAL_SPEND</th>\n",
                            "      <th>LOYALTY_MEMBER</th>\n",
                            "      <th>SHOP_YEAR_MONTH</th>\n",
                            "      <th>Points Awarded</th>\n",
                            "    </tr>\n",
                            "  </thead>\n",
                            "  <tbody>\n",
                            "    <tr>\n",
                            "      <th>3016308</th>\n",
                            "      <td>CUST0000508514</td>\n",
                            "      <td>PRD0904962</td>\n",
                            "      <td>6.27</td>\n",
                            "      <td>3</td>\n",
                            "      <td>994111200498487</td>\n",
                            "      <td>E01</td>\n",
                            "      <td>2008-06-01</td>\n",
                            "      <td>2008</td>\n",
                            "      <td>6</td>\n",
                            "      <td>18.81</td>\n",
                            "      <td>Loyalty Member</td>\n",
                            "      <td>200806</td>\n",
                            "      <td>1.1</td>\n",
                            "    </tr>\n",
                            "    <tr>\n",
                            "      <th>3016310</th>\n",
                            "      <td>NaN</td>\n",
                            "      <td>PRD0902429</td>\n",
                            "      <td>0.87</td>\n",
                            "      <td>1</td>\n",
                            "      <td>994111200062995</td>\n",
                            "      <td>E01</td>\n",
                            "      <td>2008-06-01</td>\n",
                            "      <td>2008</td>\n",
                            "      <td>6</td>\n",
                            "      <td>0.87</td>\n",
                            "      <td>Not Loyalty Member</td>\n",
                            "      <td>200806</td>\n",
                            "      <td>0.0</td>\n",
                            "    </tr>\n",
                            "    <tr>\n",
                            "      <th>3016311</th>\n",
                            "      <td>CUST0000365429</td>\n",
                            "      <td>PRD0902787</td>\n",
                            "      <td>2.03</td>\n",
                            "      <td>1</td>\n",
                            "      <td>994116401215716</td>\n",
                            "      <td>E01</td>\n",
                            "      <td>2008-06-01</td>\n",
                            "      <td>2008</td>\n",
                            "      <td>6</td>\n",
                            "      <td>2.03</td>\n",
                            "      <td>Loyalty Member</td>\n",
                            "      <td>200806</td>\n",
                            "      <td>0.0</td>\n",
                            "    </tr>\n",
                            "    <tr>\n",
                            "      <th>3016319</th>\n",
                            "      <td>CUST0000817991</td>\n",
                            "      <td>PRD0903052</td>\n",
                            "      <td>0.71</td>\n",
                            "      <td>1</td>\n",
                            "      <td>994111200699716</td>\n",
                            "      <td>E01</td>\n",
                            "      <td>2008-06-01</td>\n",
                            "      <td>2008</td>\n",
                            "      <td>6</td>\n",
                            "      <td>0.71</td>\n",
                            "      <td>Loyalty Member</td>\n",
                            "      <td>200806</td>\n",
                            "      <td>0.0</td>\n",
                            "    </tr>\n",
                            "    <tr>\n",
                            "      <th>3016322</th>\n",
                            "      <td>CUST0000139484</td>\n",
                            "      <td>PRD0903767</td>\n",
                            "      <td>1.68</td>\n",
                            "      <td>3</td>\n",
                            "      <td>994111200259711</td>\n",
                            "      <td>E01</td>\n",
                            "      <td>2008-06-01</td>\n",
                            "      <td>2008</td>\n",
                            "      <td>6</td>\n",
                            "      <td>5.04</td>\n",
                            "      <td>Loyalty Member</td>\n",
                            "      <td>200806</td>\n",
                            "      <td>0.0</td>\n",
                            "    </tr>\n",
                            "  </tbody>\n",
                            "</table>\n",
                            "</div>"
                        ]
                    },
                    "metadata": {},
                    "execution_count": 185
                }
            ],
            "metadata": {}
        },
        {
            "cell_type": "code",
            "execution_count": 159,
            "source": [
                "# For Berlin Store in 2008 June\r\n",
                "\r\n",
                "E01_200806 = sales_fact[(sales_fact.STORE_CODE==\"E01\") & (sales_fact['SHOP_YEAR_MONTH']==\"200806\") ]\r\n",
                "\r\n",
                "cost_promotion_e01_200806 = 5000\r\n",
                "E01_200806['Points Awarded']=E01_200806[['TOTAL_SPEND','LOYALTY_MEMBER']].apply(calc_points, axis=1)*1.1\r\n",
                "total_points_E01_200806 = np.ceil(E01_200806['Points Awarded'].sum())\r\n",
                "total_revenue_E01_200806 = E01_200806['TOTAL_SPEND'].sum()\r\n",
                "sales_volume_E01_200806 = E01_200806['BASKET_ID'].nunique()\r\n",
                "\r\n",
                "dollar_value_points_E01_200806 = np.ceil(total_points_E01_200806/10)\r\n",
                "\r\n",
                "net_revenue_E01_200806 = total_revenue_E01_200806 - cost_promotion_e01_200806 - dollar_value_points_E01_200806\r\n",
                "print(f\"\"\"\r\n",
                "Total points awarded in 200806 in E01 is {total_points_E01_200806}\\nTotal revenue generated in 200806 in E01 is {total_revenue_E01_200806}\r\n",
                "Cost of promotion is {cost_promotion_e01_200806} \r\n",
                "Dollar value of points offerred in 200806 in E01 is {dollar_value_points_E01_200806}\r\n",
                "Net revenue generated in 200806 in E01 is {net_revenue_E01_200806}\r\n",
                "Sales volume generated in 200806 in E01 is {sales_volume_E01_200806} baskets\r\n",
                "\"\"\")\r\n"
            ],
            "outputs": [
                {
                    "output_type": "stream",
                    "name": "stdout",
                    "text": [
                        "\n",
                        "Total points awarded in 200806 in E01 is 1503.0\n",
                        "Total revenue generated in 200806 in E01 is 38940.44\n",
                        "Cost of promotion is 5000 \n",
                        "Dollar value of points offerred in 200806 in E01 is 151.0\n",
                        "Net revenue generated in 200806 in E01 is 33789.44\n",
                        "Sales volume generated in 200806 in E01 is 3173 baskets\n",
                        "\n"
                    ]
                },
                {
                    "output_type": "stream",
                    "name": "stderr",
                    "text": [
                        "C:\\Users\\ab6101571\\.conda\\envs\\pycaret\\lib\\site-packages\\ipykernel_launcher.py:4: SettingWithCopyWarning: \n",
                        "A value is trying to be set on a copy of a slice from a DataFrame.\n",
                        "Try using .loc[row_indexer,col_indexer] = value instead\n",
                        "\n",
                        "See the caveats in the documentation: https://pandas.pydata.org/pandas-docs/stable/user_guide/indexing.html#returning-a-view-versus-a-copy\n",
                        "  after removing the cwd from sys.path.\n"
                    ]
                }
            ],
            "metadata": {}
        },
        {
            "cell_type": "code",
            "execution_count": 169,
            "source": [
                "# For Budapest store\r\n",
                "\r\n",
                "E03_200806 = sales_fact[(sales_fact.STORE_CODE==\"E03\") & (sales_fact['SHOP_YEAR_MONTH']==\"200806\") ]\r\n",
                "\r\n",
                "cost_promotion_e03_200806 = 0\r\n",
                "E03_200806['Points Awarded']=E03_200806[['TOTAL_SPEND','LOYALTY_MEMBER']].apply(calc_points, axis=1)*1.1\r\n",
                "total_points_E03_200806 = np.ceil(E03_200806['Points Awarded'].sum())\r\n",
                "total_revenue_E03_200806 = E03_200806['TOTAL_SPEND'].sum()\r\n",
                "sales_volume_E03_200806 = E03_200806['BASKET_ID'].nunique()\r\n",
                "\r\n",
                "dollar_value_points_E03_200806 = np.ceil(total_points_E03_200806/10)\r\n",
                "\r\n",
                "net_revenue_E03_200806 = total_revenue_E03_200806 - cost_promotion_e03_200806 - dollar_value_points_E03_200806\r\n",
                "print(f\"\"\"\r\n",
                "Total points awarded in 200806 in E03 is {total_points_E03_200806}\\nTotal revenue generated in 200806 in E03 is {total_revenue_E03_200806}\r\n",
                "Cost of promotion is {cost_promotion_e03_200806} \r\n",
                "Dollar value of points offerred in 200806 in E03 is {dollar_value_points_E03_200806}\r\n",
                "Net revenue generated in 200806 in E03 is {net_revenue_E03_200806}\r\n",
                "Sales volume generated in 200806 in E03 is {sales_volume_E03_200806} baskets\r\n",
                "\"\"\")\r\n"
            ],
            "outputs": [
                {
                    "output_type": "stream",
                    "name": "stdout",
                    "text": [
                        "\n",
                        "Total points awarded in 200806 in E03 is 1308.0\n",
                        "Total revenue generated in 200806 in E03 is 32937.270000000004\n",
                        "Cost of promotion is 0 \n",
                        "Dollar value of points offerred in 200806 in E03 is 131.0\n",
                        "Net revenue generated in 200806 in E03 is 32806.270000000004\n",
                        "Sales volume generated in 200806 in E03 is 1314 baskets\n",
                        "\n"
                    ]
                },
                {
                    "output_type": "stream",
                    "name": "stderr",
                    "text": [
                        "C:\\Users\\ab6101571\\.conda\\envs\\pycaret\\lib\\site-packages\\ipykernel_launcher.py:6: SettingWithCopyWarning: \n",
                        "A value is trying to be set on a copy of a slice from a DataFrame.\n",
                        "Try using .loc[row_indexer,col_indexer] = value instead\n",
                        "\n",
                        "See the caveats in the documentation: https://pandas.pydata.org/pandas-docs/stable/user_guide/indexing.html#returning-a-view-versus-a-copy\n",
                        "  \n"
                    ]
                }
            ],
            "metadata": {}
        },
        {
            "cell_type": "code",
            "execution_count": 179,
            "source": [
                "\r\n",
                "# For Berlin Store in 2008 May\r\n",
                "\r\n",
                "E01_200805 = sales_fact[(sales_fact.STORE_CODE==\"E01\") & (sales_fact['SHOP_YEAR_MONTH']==\"200805\") ]\r\n",
                "\r\n",
                "cost_promotion_e01_200805 = 0\r\n",
                "E01_200805['Points Awarded']=E01_200805[['TOTAL_SPEND','LOYALTY_MEMBER']].apply(calc_points, axis=1)*1.1\r\n",
                "total_points_E01_200805 = np.ceil(E01_200805['Points Awarded'].sum())\r\n",
                "total_revenue_E01_200805 = E01_200805['TOTAL_SPEND'].sum()\r\n",
                "sales_volume_E01_200805 = E01_200805['BASKET_ID'].nunique()\r\n",
                "\r\n",
                "dollar_value_points_E01_200805 = np.ceil(total_points_E01_200805/10)\r\n",
                "\r\n",
                "net_revenue_E01_200805 = total_revenue_E01_200805 - cost_promotion_e01_200805 - dollar_value_points_E01_200805\r\n",
                "print(f\"\"\"\r\n",
                "Total points awarded in 200805 in E01 is {total_points_E01_200805}\\nTotal revenue generated in 200805 in E01 is {total_revenue_E01_200805}\r\n",
                "Cost of promotion is {cost_promotion_e01_200805} \r\n",
                "Dollar value of points offerred in 200805 in E01 is {dollar_value_points_E01_200805}\r\n",
                "Net revenue generated in 200805 in E01 is {net_revenue_E01_200805}\r\n",
                "Sales volume generated in 200805 in E01 is {sales_volume_E01_200805} baskets\r\n",
                "\"\"\")\r\n"
            ],
            "outputs": [
                {
                    "output_type": "stream",
                    "name": "stdout",
                    "text": [
                        "\n",
                        "Total points awarded in 200805 in E01 is 1144.0\n",
                        "Total revenue generated in 200805 in E01 is 34677.93\n",
                        "Cost of promotion is 0 \n",
                        "Dollar value of points offerred in 200805 in E01 is 115.0\n",
                        "Net revenue generated in 200805 in E01 is 34562.93\n",
                        "Sales volume generated in 200805 in E01 is 1453 baskets\n",
                        "\n"
                    ]
                },
                {
                    "output_type": "stream",
                    "name": "stderr",
                    "text": [
                        "C:\\Users\\ab6101571\\.conda\\envs\\pycaret\\lib\\site-packages\\ipykernel_launcher.py:6: SettingWithCopyWarning: \n",
                        "A value is trying to be set on a copy of a slice from a DataFrame.\n",
                        "Try using .loc[row_indexer,col_indexer] = value instead\n",
                        "\n",
                        "See the caveats in the documentation: https://pandas.pydata.org/pandas-docs/stable/user_guide/indexing.html#returning-a-view-versus-a-copy\n",
                        "  \n"
                    ]
                }
            ],
            "metadata": {}
        },
        {
            "cell_type": "code",
            "execution_count": 178,
            "source": [
                "# Net difference between revenue in Berlin vs revenue in Budapest\r\n",
                "\r\n",
                "print(f\"\"\"\r\n",
                "Difference in revenue in Berlin (2008 June) vs revenue in Budapest (2008 June) is {net_revenue_E01_200806 - net_revenue_E03_200806}\r\n",
                "Difference in revenue in Berlin (2008 June) vs Berlin (2008 May) is {net_revenue_E01_200806-net_revenue_E01_200805}\r\n",
                "\r\n",
                "Difference in Baskets in Berlin (2008 June) vs baskets in Budapest(2008 June) is {sales_volume_E01_200806 - sales_volume_E03_200806}\r\n",
                "Difference in Baskets in Berlin (2008 June) vs baskets in Berlin (2008 May) is {sales_volume_E01_200806 - sales_volume_E01_200805}\r\n",
                "\r\n",
                "Lift In Terms of Revenue : \r\n",
                "Lift between Berlin (2008 June) vs Budapest (2008 June) = {(net_revenue_E01_200806 - net_revenue_E03_200806)*100/net_revenue_E01_200806}%\r\n",
                "Lift between Berlin (2008 June) vs Berlin (2008 May) = {(net_revenue_E01_200806 - net_revenue_E01_200805)*100/net_revenue_E01_200806}%\r\n",
                "\r\n",
                "Lift In Terms of Sales Volume : \r\n",
                "Lift between Berlin (2008 June) vs Budapest (2008 June) = {(sales_volume_E01_200806 - sales_volume_E03_200806)*100/sales_volume_E01_200806}%\r\n",
                "Lift between Berlin (2008 June) vs Berlin (2008 May) = {(sales_volume_E01_200806 - sales_volume_E01_200805)*100/sales_volume_E01_200806}%\r\n",
                "\r\n",
                "\"\"\")\r\n"
            ],
            "outputs": [
                {
                    "output_type": "stream",
                    "name": "stdout",
                    "text": [
                        "\n",
                        "Difference in revenue in Berlin (2008 June) vs revenue in Budapest (2008 June) is 983.1699999999983\n",
                        "Difference in revenue in Berlin (2008 June) vs Berlin (2008 May) is -773.489999999998\n",
                        "\n",
                        "Difference in Baskets in Berlin (2008 June) vs baskets in Budapest(2008 June) is 1859\n",
                        "Difference in Baskets in Berlin (2008 June) vs baskets in Berlin (2008 May) is 1720\n",
                        "\n",
                        "Lift In Terms of Revenue : \n",
                        "Lift between Berlin (2008 June) vs Budapest (2008 June) = 2.9096960470490134%\n",
                        "Lift between Berlin (2008 June) vs Berlin (2008 May) = -2.2891471418289204%\n",
                        "\n",
                        "Lift In Terms of Sales Volume : \n",
                        "Lift between Berlin (2008 June) vs Budapest (2008 June) = 58.588086983926885%\n",
                        "Lift between Berlin (2008 June) vs Berlin (2008 May) = 54.20737472423574%\n",
                        "\n",
                        "\n"
                    ]
                }
            ],
            "metadata": {}
        },
        {
            "cell_type": "markdown",
            "source": [
                "# Bayesian Causal Inference model"
            ],
            "metadata": {}
        },
        {
            "cell_type": "markdown",
            "source": [
                "Cons of building a Bayesian Causal Inference Model : \r\n",
                "1. The promotion was introduced in the Berlin Store in 2008 June and we have data only till July 2008, and hence we do not have enough data to assess the impact of promotion in the post-promotion period\r\n",
                "2. It is unclear if any other external factors affected the sales volume/revenue in the store, other than the promotion. While building a Bayesian model, we are oblivious to the fact that there could be external factors that could have affected the response variable (In this case, Sales volume or Revenue)"
            ],
            "metadata": {}
        },
        {
            "cell_type": "markdown",
            "source": [
                "Link for Bayesian Causal Inference model\r\n",
                "[Link](https://towardsdatascience.com/causal-inference-using-bayesian-structural-time-series-models-ab1a3da45cd0#:~:text=Causal%20inference%20is%20about%20determining,on%20a%20desired%20outcome%20metric.&text=This%20is%20where%20causal%20inference,which%20is%20called%20the%20counterfactual.)\r\n"
            ],
            "metadata": {}
        },
        {
            "cell_type": "markdown",
            "source": [],
            "metadata": {}
        }
    ],
    "metadata": {
        "orig_nbformat": 4,
        "language_info": {
            "name": "python",
            "version": "3.7.9",
            "mimetype": "text/x-python",
            "codemirror_mode": {
                "name": "ipython",
                "version": 3
            },
            "pygments_lexer": "ipython3",
            "nbconvert_exporter": "python",
            "file_extension": ".py"
        },
        "kernelspec": {
            "name": "python3",
            "display_name": "Python 3.7.9 64-bit ('pycaret': conda)"
        },
        "interpreter": {
            "hash": "bc512a553a3c50f19e0d22454cc620678e9cf6a2560359b376b3ab3983286201"
        }
    },
    "nbformat": 4,
    "nbformat_minor": 2
}